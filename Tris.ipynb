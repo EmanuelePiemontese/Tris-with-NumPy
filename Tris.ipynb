{
 "cells": [
  {
   "cell_type": "markdown",
   "id": "8b64d795-ca9f-4de2-bf59-dd7e018c558d",
   "metadata": {},
   "source": [
    "# Tris # \n",
    "\n",
    "In questo codice, ho sviluppato un simulatore per il gioco del Tris con quattro strategie di gioco distinte:  \n",
    "- **Random Strategy**\n",
    "- **Greedy Strategy**\n",
    "- **Perfect Strategy**\n",
    "- **Center Corner Edge Strategy**"
   ]
  },
  {
   "cell_type": "code",
   "execution_count": 1,
   "id": "c8548907-6211-4159-b56e-2c22d92918f2",
   "metadata": {},
   "outputs": [],
   "source": [
    "import numpy as np"
   ]
  },
  {
   "cell_type": "code",
   "execution_count": 2,
   "id": "4d150b38-c040-4458-bfc6-22cebd32130a",
   "metadata": {},
   "outputs": [],
   "source": [
    "O = 0\n",
    "X = 1\n",
    "EMPTY = -1"
   ]
  },
  {
   "cell_type": "markdown",
   "id": "0983f75b-d95d-42f0-b28b-9c6598568a0f",
   "metadata": {},
   "source": [
    "### Funzione `isTris` ###\n",
    "\n",
    "Questa funzione verifica se nella griglia di gioco è presente un tris. \n",
    "\n",
    "#### Implementazione ####\n",
    "1. **Verifica delle righe, colonne e diagonali**:\n",
    "    - utilizzando *np.all()*, verifico se tutti gli elementi di ciascuna riga, colonna o diagonali sono uguali a *O* o *X*;\n",
    "    - utilizzando *np.any()*, verifico se almeno una riga o colonna soddisfa questa condizione.\n",
    "2. **Diagonali**:\n",
    "    - per il calcolo della diagonali principale ho usato la funzione *np.diag()*;\n",
    "    - ho calcolato la diagonale secondaria con l'ausilio della funzione *np.fliplr()*."
   ]
  },
  {
   "cell_type": "code",
   "execution_count": 3,
   "id": "84ad066c-88fd-4810-85af-aadf8590bb56",
   "metadata": {},
   "outputs": [],
   "source": [
    "def isTris(grid):\n",
    "    \n",
    "    # Verifico le righe\n",
    "    r_check = np.any(np.all(grid == O, axis=1)) | np.any(np.all(grid == X, axis=1))\n",
    "\n",
    "    # Verifico le colonne\n",
    "    c_check = np.any(np.all(grid == O, axis=0)) | np.any(np.all(grid == X, axis=0))\n",
    "    \n",
    "    # Verifico la diagonale principale\n",
    "    d1_check = np.all(np.diag(grid) == O) | np.all(np.diag(grid) == X)\n",
    "        \n",
    "    # Verifico la diagonale secondaria\n",
    "    d2_check = np.all(np.diag(np.fliplr(grid)) == O) | np.all(np.diag(np.fliplr(grid)) == X)\n",
    "\n",
    "    return r_check | c_check | d1_check | d2_check"
   ]
  },
  {
   "cell_type": "markdown",
   "id": "a36a4d09-59e4-431a-8f0f-eb85188d71ce",
   "metadata": {},
   "source": [
    "### Funzione `setOnGrid` ###\n",
    "\n",
    "Questa funzione ha lo scopo di impostare un valore (*X* o *O*) in una posizione specifica all'interno della griglia di gioco, ma solo se la cella in quella posizione è vuota. \n",
    "\n",
    "Se la cella è vuota, imposto value nella posizione indicata e restituisco *True*, altrimenti restituisco *False*."
   ]
  },
  {
   "cell_type": "code",
   "execution_count": 4,
   "id": "72c1f25f-2978-470e-b5f0-ee9d1e7742bc",
   "metadata": {},
   "outputs": [],
   "source": [
    "def setOnGrid(grid, pos, value):\n",
    "\n",
    "    if grid[pos] == EMPTY:\n",
    "        grid[pos] = value\n",
    "        return True  \n",
    "    \n",
    "    return False"
   ]
  },
  {
   "cell_type": "markdown",
   "id": "5ef6e0fe-24e5-4407-a3b8-d8d06ac0ffaf",
   "metadata": {},
   "source": [
    "### Funzione `randomStrategy` ###\n",
    "\n",
    "Questa funzione simula una strategia di gioco in cui un giocatore posiziona il proprio simbolo (*X* o *O*) in una cella vuota scelta casualmente dalla griglia di gioco. \n",
    "\n",
    "#### Implementazione ####\n",
    "1. **Individuazione delle celle vuote**:\n",
    "    - individuo tutte le posizioni vuote nella griglia tramite funzione *np.argwhere(grid == EMPTY)*, che restituisce gli indici delle celle vuote nella matrice;\n",
    "2. **Selezione casuale di una posizione vuota**:\n",
    "    - tramite la funzione *np.random.randint()*, seleziono una posizione casuale tra quelle libere ed effettuo la mossa in quella posizione con *setOnGrid()*."
   ]
  },
  {
   "cell_type": "code",
   "execution_count": 5,
   "id": "427cefc8-9a20-413f-adfb-c5458a3a60ff",
   "metadata": {},
   "outputs": [],
   "source": [
    "def randomStrategy(grid, value):\n",
    "\n",
    "    # Trovo tutte le posizioni vuote nella griglia\n",
    "    # np.argwhere restituisce gli indici (riga, colonna) di tutte le celle vuote (dove grid == EMPTY)\n",
    "    empty_pos = np.argwhere(grid == EMPTY)\n",
    "\n",
    "    casual_pos = np.random.randint(empty_pos.shape[0])\n",
    "    pos = tuple(empty_pos[casual_pos])\n",
    "        \n",
    "    return setOnGrid(grid, pos, value)"
   ]
  },
  {
   "cell_type": "markdown",
   "id": "88a9ddcc-2bf8-423d-a036-d7115ae6c452",
   "metadata": {},
   "source": [
    "### Funzione `win_pos` ###\n",
    "\n",
    "Questa funzione mi permette di identificare tutte le mosse vincenti se esistono.\n",
    "\n",
    "#### Implementazione ####\n",
    "\n",
    "1.  **Controllo delle righe**:\n",
    "    - se una riga contiene esattamente due simboli uguali e una cella vuota, aggiungo a winning_pos la posizione della cella vuota trovata.\n",
    "2. **Controllo delle colonne**:\n",
    "    - se una colonna contiene esattamente due simboli uguali e una cella vuota, aggiungo a winning_pos la posizione della cella vuota trovata.\n",
    "3. **Controllo delle diagonali**:\n",
    "    - se una delle diagonali contiene esattamente due simboli uguali e una cella vuota, aggiungo a winning_pos la posizione della cella vuota trovata.\n",
    "\n",
    "La funzione ritorna le posizioni delle mosse vincenti.\n",
    "\n",
    "#### Spiegazioni ####\n",
    "\n",
    "- `np.sum(grid == value, axis=1)`:\n",
    "  - Calcola il numero di celle `value` per ogni riga della matrice `grid`. Restituisce un array con il conteggio dei `value` per ogni riga.\n",
    "- `np.sum(grid == EMPTY, axis=1)`:\n",
    "  - Calcola il numero di celle vuote (EMPTY) per ogni riga della matrice `grid`. Restituisce un array con il conteggio delle celle vuote per ogni riga.\n",
    "- `np.argmax(rows)`:\n",
    "  - `rows` è un array booleano che indica, per ogni riga, se la riga contiene esattamente due `value` e una cella vuota. `np.argmax()` restituisce l'indice della prima riga che soddisfa questa condizione.\n",
    "- `np.argmax(grid[row_pos] == EMPTY)`:\n",
    "  - `grid[row_pos]` estrae la riga `row_pos` dalla matrice `grid`.\n",
    "  - `grid[row_pos] == EMPTY` crea un array booleano che indica dove ci sono celle vuote nella riga.\n",
    "  - `np.argmax(grid[row_pos] == EMPTY)` restituisce l'indice della prima colonna vuota in quella riga.\n",
    "- `np.sum(grid == value, axis=0)`:\n",
    "  - Calcola il numero di celle `value` per ogni colonna della matrice `grid`. Restituisce un array con il conteggio dei `value` per ogni colonna.\n",
    "- `np.sum(grid == EMPTY, axis=0)`:\n",
    "  - Calcola il numero di celle vuote (EMPTY) per ogni colonna della matrice `grid`. Restituisce un array con il conteggio delle celle vuote per ogni colonna.\n",
    "- `np.argmax(cols)`:\n",
    "  - `cols` è un array booleano che indica, per ogni colonna, se la colonna contiene esattamente due `value` e una cella vuota. `np.argmax()` restituisce l'indice della prima colonna che soddisfa questa condizione.\n",
    "- `np.argmax(grid[:, col_pos] == EMPTY)`:\n",
    "  - `grid[:, col_pos]` estrae la colonna `col_pos` dalla matrice `grid`.\n",
    "  - `grid[:, col_pos] == EMPTY` crea un array booleano che indica dove ci sono celle vuote in quella colonna.\n",
    "  - `np.argmax(grid[:, col_pos] == EMPTY)` restituisce l'indice della prima riga vuota in quella colonna.\n",
    "- `np.diag(grid)`:\n",
    "  - Estrae la diagonale principale della matrice `grid` (dalla parte superiore sinistra a quella inferiore destra).\n",
    "- `np.count_nonzero(diag1 == value)`:\n",
    "  - Conta quante volte il valore `value` appare nella diagonale principale `diag1`.\n",
    "- `np.count_nonzero(diag1 == EMPTY)`:\n",
    "  - Conta quante celle vuote (EMPTY) ci sono sulla diagonale principale `diag1`.\n",
    "- `np.argmax(diag1 == EMPTY)`:\n",
    "  - `diag1 == EMPTY` crea un array booleano che indica dove ci sono celle vuote sulla diagonale principale.\n",
    "  - `np.argmax(diag1 == EMPTY)` restituisce l'indice della prima cella vuota sulla diagonale principale.\n",
    "- `np.diag(np.fliplr(grid))`:\n",
    "  - `np.fliplr(grid)` inverte le colonne della matrice `grid`, creando la diagonale secondaria (dalla parte superiore destra a quella inferiore sinistra).\n",
    "  - `np.diag(np.fliplr(grid))` estrae questa diagonale secondaria.\n",
    "- `np.count_nonzero(diag2 == value)`:\n",
    "  - Conta quante volte il valore `value` appare nella diagonale secondaria `diag2`.\n",
    "- `np.count_nonzero(diag2 == EMPTY)`:\n",
    "  - Conta quante celle vuote (EMPTY) ci sono sulla diagonale secondaria `diag2`.\n",
    "- `np.argmax(diag2 == EMPTY)`:\n",
    "  - `diag2 == EMPTY` crea un array booleano che indica dove ci sono celle vuote sulla diagonale secondaria.\n",
    "  - `np.argmax(diag2 == EMPTY)` restituisce l'indice della prima cella vuota sulla diagonale secondaria.\n",
    "- `grid.shape[0] - 1 - diag_index`:\n",
    "  - Restituisce l'indice della colonna corrispondente alla cella vuota sulla diagonale secondaria, usando l'indice della diagonale invertita."
   ]
  },
  {
   "cell_type": "code",
   "execution_count": 6,
   "id": "0dc7ba15-1fc4-4000-aa96-2bed149d5f5d",
   "metadata": {},
   "outputs": [],
   "source": [
    "def win_pos(grid, value):\n",
    "\n",
    "    winning_pos = []\n",
    "    \n",
    "    # Trovo le righe con due `value` e una cella vuota\n",
    "    rows = (np.sum(grid == value, axis=1) == 2) & (np.sum(grid == EMPTY, axis=1) == 1)\n",
    "    if np.any(rows):\n",
    "        row_pos = np.argmax(rows)  # Trovo l'indice della prima riga che ha 2 `value` e 1 cella vuota\n",
    "        col_pos = np.argmax(grid[row_pos] == EMPTY)  # Trovo l'indice della colonna vuota in quella riga\n",
    "        winning_pos.append((row_pos, col_pos))\n",
    "    \n",
    "    # Trovo le colonne con due `value` e una cella vuota\n",
    "    cols = (np.sum(grid == value, axis=0) == 2) & (np.sum(grid == EMPTY, axis=0) == 1)\n",
    "    if np.any(cols):\n",
    "        col_pos = np.argmax(cols)  # Trovo l'indice della prima colonna che ha 2 `value` e 1 cella vuota\n",
    "        row_pos = np.argmax(grid[:, col_pos] == EMPTY)  # Trovo l'indice della riga vuota in quella colonna\n",
    "        winning_pos.append((row_pos, col_pos))\n",
    "    \n",
    "    # Verifico se la diagonale principale ha due `value` e una cella vuota\n",
    "    diag1 = np.diag(grid)\n",
    "    diag1_matches = (np.count_nonzero(diag1 == value) == 2) & (np.count_nonzero(diag1 == EMPTY) == 1)\n",
    "    if diag1_matches:\n",
    "        empty_pos = np.argmax(diag1 == EMPTY)  # Trovo l'indice della cella vuota sulla diagonale\n",
    "        winning_pos.append((empty_pos, empty_pos))\n",
    "    \n",
    "    # Verifico se la diagonale secondaria ha due `value` e una cella vuota\n",
    "    diag2 = np.diag(np.fliplr(grid))\n",
    "    diag2_matches = (np.count_nonzero(diag2 == value) == 2) & (np.count_nonzero(diag2 == EMPTY) == 1)\n",
    "    if diag2_matches:\n",
    "        diag_index = np.argmax(diag2 == EMPTY)  # Trovo l'indice della cella vuota sulla diagonale secondaria\n",
    "        winning_pos.append((diag_index, grid.shape[0] - 1 - diag_index))\n",
    "    \n",
    "    return winning_pos"
   ]
  },
  {
   "cell_type": "markdown",
   "id": "21b37233-2a9d-4009-8ec2-d66a46cc89ea",
   "metadata": {},
   "source": [
    "### Funzione `next_pos` ###\n",
    "\n",
    "Questa funzione mi permette di trovare tutte le posizioni dove un giocatore può muoversi successivamente. \n",
    "La funzione analizza righe, colonne e diagonali per determinare le posizioni dove è possibile aggiungere un simbolo per massimizzare il numero di value uguali.\n",
    "\n",
    "#### Implementazione ####\n",
    "1.  **Controllo delle righe**:\n",
    "    - se una riga contiene esattamente un simbolo uguale a value e due celle vuote, aggiungo la posizione alla lista *positions*.\n",
    "2. **Controllo delle colonne**:\n",
    "    - se una colonna contiene esattamente un simbolo uguale a value e due celle vuote, aggiungo la posizione alla lista *positions*.\n",
    "3. **Controllo delle diagonali**:\n",
    "    - se una delle diagonali contiene esattamente un simbolo uguale a value e due celle vuote, aggiungo la posizione alla lista *positions*.\n",
    "\n",
    "La funzione restituisce la lista con tutte le possibili posizioni.\n",
    "\n",
    "#### Spiegazioni ####\n",
    "\n",
    "- `np.sum(grid == value, axis=1)`:\n",
    "  - Calcola il numero di celle `value` per ogni riga della matrice `grid`. Restituisce un array con il conteggio dei `value` per ogni riga.\n",
    "- `np.sum(grid == EMPTY, axis=1)`:\n",
    "  - Calcola il numero di celle vuote (EMPTY) per ogni riga della matrice `grid`. Restituisce un array con il conteggio delle celle vuote per ogni riga.\n",
    "- `np.argmax(rows_mask)`:\n",
    "  - `rows_mask` è un array booleano che indica, per ogni riga, se la riga contiene esattamente un `value` e due celle vuote. `np.argmax()` restituisce l'indice della prima riga che soddisfa questa condizione.\n",
    "- `np.argmax(grid[row_pos] == EMPTY)`:\n",
    "  - `grid[row_pos]` estrae la riga `row_pos` dalla matrice `grid`.\n",
    "  - `grid[row_pos] == EMPTY` crea un array booleano che indica dove ci sono celle vuote nella riga.\n",
    "  - `np.argmax(grid[row_pos] == EMPTY)` restituisce l'indice della prima colonna vuota in quella riga.\n",
    "- `np.argmax(cols_mask)`:\n",
    "  - `cols_mask` è un array booleano che indica, per ogni colonna, se la colonna contiene esattamente un `value` e due celle vuote. `np.argmax()` restituisce l'indice della prima colonna che soddisfa questa condizione.\n",
    "- `np.argmax(grid[:, col_pos] == EMPTY)`:\n",
    "  - `grid[:, col_pos]` estrae la colonna `col_pos` dalla matrice `grid`.\n",
    "  - `grid[:, col_pos] == EMPTY` crea un array booleano che indica dove ci sono celle vuote in quella colonna.\n",
    "  - `np.argmax(grid[:, col_pos] == EMPTY)` restituisce l'indice della prima riga vuota in quella colonna.\n",
    "- `np.diag(grid)`:\n",
    "  - Estrae la diagonale principale della matrice `grid` (dalla parte superiore sinistra a quella inferiore destra).\n",
    "- `np.argmax(diag1 == EMPTY)`:\n",
    "  - `diag1 == EMPTY` crea un array booleano che indica dove ci sono celle vuote sulla diagonale principale.\n",
    "  - `np.argmax(diag1 == EMPTY)` restituisce l'indice della prima cella vuota sulla diagonale principale.\n",
    "- `np.diag(np.fliplr(grid))`:\n",
    "  - `np.fliplr(grid)` inverte le colonne della matrice `grid`, creando la diagonale secondaria (dalla parte superiore destra a quella inferiore sinistra).\n",
    "  - `np.diag(np.fliplr(grid))` estrae questa diagonale secondaria.\n",
    "- `np.argmax(diag2 == EMPTY)`:\n",
    "  - `diag2 == EMPTY` crea un array booleano che indica dove ci sono celle vuote sulla diagonale secondaria.\n",
    "  - `np.argmax(diag2 == EMPTY)` restituisce l'indice della prima cella vuota sulla diagonale secondaria."
   ]
  },
  {
   "cell_type": "code",
   "execution_count": 7,
   "id": "6cf823a9-5565-4db9-a3ea-6b523adba28c",
   "metadata": {},
   "outputs": [],
   "source": [
    "def next_pos(grid, value):\n",
    "    positions = []\n",
    "\n",
    "    # Trovo le righe che hanno un `value` e due celle vuote\n",
    "    rows_mask = (np.sum(grid == value, axis=1) == 1) & (np.sum(grid == EMPTY, axis=1) == 2)\n",
    "    \n",
    "    # Se almeno una riga soddisfa la condizione, procediamo\n",
    "    if np.any(rows_mask):\n",
    "        row_pos = np.argmax(rows_mask)  # Trovo la prima riga che soddisfa la condizione\n",
    "        col_pos = np.argmax(grid[row_pos] == EMPTY)  # Trovo la colonna vuota in quella riga\n",
    "        positions.append((row_pos, col_pos))\n",
    "\n",
    "    # Trovo le colonne che hanno un `value` e due celle vuote\n",
    "    cols_mask = (np.sum(grid == value, axis=0) == 1) & (np.sum(grid == EMPTY, axis=0) == 2)\n",
    "    \n",
    "    # Se almeno una colonna soddisfa la condizione, procediamo\n",
    "    if np.any(cols_mask):\n",
    "        col_pos = np.argmax(cols_mask)  # Trovo la prima colonna che soddisfa la condizione\n",
    "        row_pos = np.argmax(grid[:, col_pos] == EMPTY)  # Trovo la riga vuota in quella colonna\n",
    "        positions.append((row_pos, col_pos))\n",
    "\n",
    "    # Verifico se la diagonale principale ha un `value` e due celle vuote\n",
    "    diag1 = np.diag(grid)\n",
    "    diag1_mask = (np.sum(diag1 == value) == 1) & (np.sum(diag1 == EMPTY) == 2)\n",
    "    \n",
    "    if diag1_mask:\n",
    "        empty_pos = np.argmax(diag1 == EMPTY)  # Trovo la posizione vuota sulla diagonale principale\n",
    "        positions.append((empty_pos, empty_pos))\n",
    "\n",
    "    # Verifico se la diagonale secondaria ha un `value` e due celle vuote\n",
    "    diag2 = np.diag(np.fliplr(grid))\n",
    "    diag2_mask = (np.sum(diag2 == value) == 1) & (np.sum(diag2 == EMPTY) == 2)\n",
    "    \n",
    "    if diag2_mask:\n",
    "        empty_pos = np.argmax(diag2 == EMPTY)  # Trovo la posizione vuota sulla diagonale secondaria\n",
    "        positions.append((empty_pos, grid.shape[0] - 1 - empty_pos))\n",
    "\n",
    "    return positions"
   ]
  },
  {
   "cell_type": "markdown",
   "id": "17df4124-d369-494e-a41c-b9c6397d93d8",
   "metadata": {},
   "source": [
    "### Funzione `greedyStrategy` ###\n",
    "\n",
    "Questa funzione implementa la strategia di gioco greedy, in cui il giocatore cerca di massimizzare il numero di valori uguali su una stessa riga, colonna o diagonale.\n",
    "\n",
    "#### Implementazione ####\n",
    "1. **Vittoria immediata**:\n",
    "   - uso la funzione `win_pos(grid, value)` per trovare una posizione che consenta al giocatore di vincere subito. Se tale posizione esiste, viene eseguita.\n",
    "2. **Massimizzazione della posizione**:\n",
    "   - uso la funzione `next_pos(grid, value)` per trovare le posizioni che massimizzano il numero di valori uguali in righe, colonne o diagonali. Se ci sono più posizioni, una viene scelta casualmente.\n",
    "3. **Strategia casuale**:\n",
    "   - se nessuna delle condizioni sopra è soddisfatta, la funzione esegue una mossa casuale con la funzione `randomStrategy(grid, value)`.\n",
    "\n",
    "#### Esempio ####\n",
    "\n",
    "```\n",
    "grid:\n",
    "    [ 0, -1,  X]\n",
    "    [-1, -1, -1]\n",
    "    [-1, -1, -1]\n",
    "```\n",
    "\n",
    "1. Chiamata a greedyStrategy(grid, X):\n",
    "    1. Controllo della vittoria immediata con `win_pos(grid, X)`:\n",
    "        - in questo caso, non c'è nessuna mossa vincente immediata per X;\n",
    "        - win_pos ritorna una lista vuota e il controllo passa alla fase successiva.\n",
    "    2. Ricerca delle posizioni migliori con `next_pos(grid, X)`:\n",
    "        - la funzione next_pos cerca le posizioni che massimizzano la possibilità di avere più X su una stessa riga, colonna o diagonale;\n",
    "        - la funzione next_pos ritorna le posizioni valide: [(1, 1), (1, 2), (2, 0), (2,2)].\n",
    "    3. Selezione della mossa:\n",
    "        - dato che sono state trovate più di una posizione valida, la funzione seleziona una di queste posizioni in modo casuale;\n",
    "        - supponiamo che venga selezionata la posizione (1, 1);\n",
    "        - la funzione setOnGrid(grid, (1, 1), X) viene chiamata per eseguire la mossa di X in posizione (1, 1).\n",
    "\n",
    "La griglia aggiornata è:\n",
    "```\n",
    "grid:\n",
    "    [ 0, -1,  X]\n",
    "    [-1,  X, -1]\n",
    "    [-1, -1, -1]\n",
    "```"
   ]
  },
  {
   "cell_type": "code",
   "execution_count": 8,
   "id": "382c13d0-c88d-4531-a4db-ca1b33c8c651",
   "metadata": {},
   "outputs": [],
   "source": [
    "def greedyStrategy(grid, value):\n",
    "    \n",
    "    # Verifico se esiste una posizione che permette di massimizzare il numero di vaule \n",
    "    # su una stessa riga, colonna o diagonale (vincita immediata: 2 value e 1 EMPTY)\n",
    "    win_positions = win_pos(grid, value)\n",
    "    # Se ci sono più posizioni valide, scelgo casualmente, altrimeni scelgo l'unica disponibile \n",
    "    # (anche se c'è un unica posizione disponibile la random ritorna proprio quella)\n",
    "    if len(win_positions) != 0:\n",
    "        pos = win_positions[np.random.randint(len(win_positions))]\n",
    "        return setOnGrid(grid, pos, value)\n",
    "\n",
    "    # Se la condizione precedente non è soddisfatta\n",
    "    # Verifico se esiste una posizione che permette di massimizzare il numero di vaule \n",
    "    # su una stessa riga, colonna o diagonale (1 value e 2 EMPTY)\n",
    "    positions = next_pos(grid, value)\n",
    "    # Se ci sono più posizioni valide, scelgo casualmente, altrimeni scelgo l'unica disponibile \n",
    "    # (anche se c'è un unica posizione disponibile la random ritorna proprio quella)\n",
    "    if len(positions) > 0:\n",
    "        pos = positions[np.random.randint(len(positions))]\n",
    "        return setOnGrid(grid, pos, value)\n",
    "\n",
    "    # Se nessuna opzione è disponibile, usa la strategia casuale\n",
    "    return randomStrategy(grid, value)"
   ]
  },
  {
   "cell_type": "markdown",
   "id": "33e14281-f699-4cb1-85ba-b2ee01a779df",
   "metadata": {},
   "source": [
    "### Funzione `simulateTris` ###\n",
    "\n",
    "Questa funzione simula un numero di partite tra due giocatori che utilizzano strategie diverse. La funzione tiene traccia dei risultati delle partite, calcolando il numero di vittorie per ciascun giocatore e il numero di pareggi. "
   ]
  },
  {
   "cell_type": "code",
   "execution_count": 9,
   "id": "d773ad93-cf1b-4c49-a397-f1361cf7cd27",
   "metadata": {},
   "outputs": [],
   "source": [
    "def simulateTris(N, strategy1, strategy2):\n",
    "    \n",
    "    wins1 = 0\n",
    "    wins2 = 0\n",
    "    draws = 0\n",
    "    strategies = [strategy1, strategy2]\n",
    "    symbols = [O, X]\n",
    "\n",
    "    for _ in range(N):\n",
    "        \n",
    "        grid = np.full((3, 3), EMPTY)\n",
    "        turn = 0\n",
    "        winner = None\n",
    "\n",
    "        while turn < 9 and winner is None:\n",
    "            \n",
    "            # Alterno le mosse tra i due giocatori\n",
    "            player = turn % 2\n",
    "            # Chiamo la strategia del giocatore corrente, passando la griglia e il simbolo del giocatore.\n",
    "            strategies[player](grid, symbols[player])\n",
    "\n",
    "            if isTris(grid):\n",
    "                winner = player\n",
    "            else:\n",
    "                turn += 1\n",
    "\n",
    "        # Aggiorno il risultato\n",
    "        if winner == 0:\n",
    "            wins1 += 1\n",
    "        elif winner == 1:\n",
    "            wins2 += 1\n",
    "        else:\n",
    "            draws += 1\n",
    "\n",
    "    return (wins1, wins2, draws)"
   ]
  },
  {
   "cell_type": "markdown",
   "id": "13fb88e6-a09b-4fca-b5bd-ae551974f736",
   "metadata": {},
   "source": [
    "### Simulazione 1 ###\n",
    "\n",
    "Vengono simulate 10.000 partite tra le strategie **Random Strategy** e **Greedy Strategy**."
   ]
  },
  {
   "cell_type": "code",
   "execution_count": 10,
   "id": "dac22fed-36ac-4f4f-8298-c75bbbd83e18",
   "metadata": {},
   "outputs": [
    {
     "name": "stdout",
     "output_type": "stream",
     "text": [
      "In questa simulazione, il giocatore che effettua la prima mossa utilizza la Greedy Strategy.\n",
      "La Greedy Strategy vince: 9674 volte\n",
      "La Random Strategy vince: 268 volte\n",
      "Pareggi: 58 volte\n",
      "\n",
      "La strategia che risulta vincente è la: Greedy Strategy\n"
     ]
    }
   ],
   "source": [
    "wins1, wins2, draws = simulateTris(10_000, greedyStrategy, randomStrategy)       \n",
    "\n",
    "print(\"In questa simulazione, il giocatore che effettua la prima mossa utilizza la Greedy Strategy.\")\n",
    "print(f\"La Greedy Strategy vince: {wins1} volte\")\n",
    "print(f\"La Random Strategy vince: {wins2} volte\")\n",
    "print(f\"Pareggi: {draws} volte\")\n",
    "\n",
    "if wins1 > wins2:\n",
    "    print(f\"\\nLa strategia che risulta vincente è la: Greedy Strategy\")\n",
    "elif wins2 > wins1:\n",
    "    print(f\"\\nLa strategia che risulta vincente è la: Random Strategy\")\n",
    "else:\n",
    "    print(\"Le due strategie risultano in parità\")"
   ]
  },
  {
   "cell_type": "code",
   "execution_count": 11,
   "id": "3f5426b2-c90e-43c6-b6a0-9b574d5dd6a9",
   "metadata": {},
   "outputs": [
    {
     "name": "stdout",
     "output_type": "stream",
     "text": [
      "In questa simulazione, il giocatore che effettua la prima mossa utilizza la Random Strategy.\n",
      "La Greedy Strategy vince: 7834 volte\n",
      "La Random Strategy vince: 1992 volte\n",
      "Pareggi: 174 volte\n",
      "\n",
      "La strategia che risulta vincente è la: Greedy Strategy\n"
     ]
    }
   ],
   "source": [
    "wins1, wins2, draws = simulateTris(10_000, randomStrategy, greedyStrategy)       \n",
    "\n",
    "print(\"In questa simulazione, il giocatore che effettua la prima mossa utilizza la Random Strategy.\")\n",
    "print(f\"La Greedy Strategy vince: {wins2} volte\")\n",
    "print(f\"La Random Strategy vince: {wins1} volte\")\n",
    "print(f\"Pareggi: {draws} volte\")\n",
    "\n",
    "if wins1 > wins2:\n",
    "    print(f\"\\nLa strategia che risulta vincente è la: Random Strategy\")\n",
    "elif wins2 > wins1:\n",
    "    print(f\"\\nLa strategia che risulta vincente è la: Greedy Strategy\")\n",
    "else:\n",
    "    print(\"Le due strategie risultano in parità\")"
   ]
  },
  {
   "cell_type": "markdown",
   "id": "33d54c5e-5621-4393-9fb6-7ce8fc116ccd",
   "metadata": {},
   "source": [
    "### Funzione `perfectStrategy` ###\n",
    "\n",
    "Questa funzione implementa una strategia ottimale per il gico del tris, seguendo una serie di mosse che garantiscono la vittoria (se possibile) o il pareggio, a seconda della situazione sulla griglia. La strategia cerca prima di tutto di ottenere una vincita immediata, poi di bloccare l'avversario se sta per vincere, e infine occupa posizioni strategiche sulla griglia.\n",
    "\n",
    "#### Implementazione ####\n",
    "\n",
    "1. **Vincita immediata**:\n",
    "   - verifico se il giocatore ha una mossa che porta a una vincita immediata chiamando la funzione *win_pos()*;\n",
    "   - se esiste, eseguo la mossa.\n",
    "2. **Blocco della vincita dell'avversario**:\n",
    "   - se il giocatore non ha una mossa vincente immediata, verifico se l'avversario ha una mossa vincente imminente chiamando sempre *win_pos()* ma sul valore *1 - value* (opponent);\n",
    "   - se l'avversario può vincere, blocco la mossa.\n",
    "3. **Posizione del centro**:\n",
    "   - se nessuna delle due condizioni precedenti è vera, e se la posizione centrale (1, 1) della griglia è vuota, occupo il centro. Il centro è una posizione strategica fondamentale per il controllo del gioco.\n",
    "4. **Posizione degli angoli**:\n",
    "   - se il centro è già occupato, controllo se ci sono angoli vuoti. Gli angoli sono posizioni strategiche importanti.\n",
    "5. **Posizione dei bordi**:\n",
    "   - se non ci sono angoli vuoti, la funzione occupa una delle posizioni sui bordi (le celle che non sono né angoli né centro). Queste posizioni sono meno importanti degli angoli, ma comunque utili per prevenire la vittoria dell'avversario.\n",
    "\n",
    "In ogni caso, la funzione restituisce la griglia aggiornata dopo che è stata effettuata una mossa."
   ]
  },
  {
   "cell_type": "code",
   "execution_count": 12,
   "id": "ce3e8a1a-dcb5-4691-9853-5332ddd2a658",
   "metadata": {},
   "outputs": [],
   "source": [
    "def perfectStrategy(grid, value):\n",
    "        \n",
    "    # Verifico la presenza di una vincita immediata\n",
    "    win_positions = win_pos(grid, value)\n",
    "    if len(win_positions) != 0:\n",
    "        pos = win_positions[np.random.randint(len(win_positions))]\n",
    "        return setOnGrid(grid, pos, value)\n",
    "\n",
    "    # Verifico la presenza di una vincita dell'avversario per bloccarla\n",
    "    opponent = 1 - value\n",
    "    win_positions = win_pos(grid, opponent)\n",
    "    if len(win_positions) != 0:\n",
    "        pos = win_positions[np.random.randint(len(win_positions))]\n",
    "        return setOnGrid(grid, pos, value)\n",
    "    \n",
    "    # Se il centro è vuoto, occupo il centro\n",
    "    if grid[1, 1] == EMPTY:\n",
    "        return setOnGrid(grid, (1,1), value)\n",
    "    \n",
    "    # Verifico gli angoli vuoti\n",
    "    corners = [(0, 0), (0, 2), (2, 0), (2, 2)]\n",
    "    empty_corners = [move for move in corners if grid[move] == EMPTY]\n",
    "    if len(empty_corners) != 0:\n",
    "        return setOnGrid(grid, empty_corners[0], value)\n",
    "\n",
    "    # Se non ci sono angoli vuoti, occupo i bordi\n",
    "    edges = [(0, 1), (1, 0), (1, 2), (2, 1)]\n",
    "    empty_edges = [move for move in edges if grid[move] == EMPTY]\n",
    "    if len(empty_edges) != 0:\n",
    "        return setOnGrid(grid, empty_edges[0], value)"
   ]
  },
  {
   "cell_type": "markdown",
   "id": "d7efa736-b9cc-4c52-8f1c-9de3704a2f5c",
   "metadata": {},
   "source": [
    "### Simulazione 2 ###\n",
    "\n",
    "Vengono simulate 10.000 partite tra le strategie **Random Strategy** e **Perfect Strategy**."
   ]
  },
  {
   "cell_type": "code",
   "execution_count": 13,
   "id": "a6081a98-f5df-4f2d-81f3-6e5d96ceb3bf",
   "metadata": {},
   "outputs": [
    {
     "name": "stdout",
     "output_type": "stream",
     "text": [
      "In questa simulazione, il giocatore che effettua la prima mossa utilizza la Perfect Strategy.\n",
      "La Perfect Strategy vince: 9621 volte\n",
      "La Random Strategy vince: 0 volte\n",
      "Pareggi: 379 volte\n",
      "\n",
      "La strategia che risulta vincente è la: Perfect Strategy\n"
     ]
    }
   ],
   "source": [
    "wins1, wins2, draws = simulateTris(10_000, perfectStrategy, randomStrategy)       \n",
    "\n",
    "print(\"In questa simulazione, il giocatore che effettua la prima mossa utilizza la Perfect Strategy.\")\n",
    "print(f\"La Perfect Strategy vince: {wins1} volte\")\n",
    "print(f\"La Random Strategy vince: {wins2} volte\")\n",
    "print(f\"Pareggi: {draws} volte\")\n",
    "\n",
    "if wins1 > wins2:\n",
    "    print(f\"\\nLa strategia che risulta vincente è la: Perfect Strategy\")\n",
    "elif wins2 > wins1:\n",
    "    print(f\"\\nLa strategia che risulta vincente è la: Random Strategy\")\n",
    "else:\n",
    "    print(\"Le due strategie risultano in parità\")"
   ]
  },
  {
   "cell_type": "code",
   "execution_count": 14,
   "id": "74ab3328-2099-425f-aa49-5aa76963f325",
   "metadata": {},
   "outputs": [
    {
     "name": "stdout",
     "output_type": "stream",
     "text": [
      "In questa simulazione, il giocatore che effettua la prima mossa utilizza la Random Strategy.\n",
      "La Perfect Strategy vince: 8505 volte\n",
      "La Random Strategy vince: 115 volte\n",
      "Pareggi: 1380 volte\n",
      "\n",
      "La strategia che risulta vincente è la: Perfect Strategy\n"
     ]
    }
   ],
   "source": [
    "wins1, wins2, draws = simulateTris(10_000, randomStrategy, perfectStrategy)       \n",
    "\n",
    "print(\"In questa simulazione, il giocatore che effettua la prima mossa utilizza la Random Strategy.\")\n",
    "print(f\"La Perfect Strategy vince: {wins2} volte\")\n",
    "print(f\"La Random Strategy vince: {wins1} volte\")\n",
    "print(f\"Pareggi: {draws} volte\")\n",
    "\n",
    "if wins1 > wins2:\n",
    "    print(f\"\\nLa strategia che risulta vincente è la: Random Strategy\")\n",
    "elif wins2 > wins1:\n",
    "    print(f\"\\nLa strategia che risulta vincente è la: Perfect Strategy\")\n",
    "else:\n",
    "    print(\"Le due strategie risultano in parità\")"
   ]
  },
  {
   "cell_type": "markdown",
   "id": "4313bd40-1d9a-426d-ae5d-dd7b62526181",
   "metadata": {},
   "source": [
    "### Simulazione 3 ###\n",
    "\n",
    "Vengono simulate 10.000 partite tra le strategie **Greedy Strategy** e **Perfect Strategy**."
   ]
  },
  {
   "cell_type": "code",
   "execution_count": 15,
   "id": "899eebb8-e2a4-44fc-8ec8-7235322c79b0",
   "metadata": {},
   "outputs": [
    {
     "name": "stdout",
     "output_type": "stream",
     "text": [
      "In questa simulazione, il giocatore che effettua la prima mossa utilizza la Perfect Strategy.\n",
      "La Perfect Strategy vince: 9803 volte\n",
      "La Greedy Strategy vince: 0 volte\n",
      "Pareggi: 197 volte\n",
      "\n",
      "La strategia che risulta vincente è la: Perfect Strategy\n"
     ]
    }
   ],
   "source": [
    "wins1, wins2, draws = simulateTris(10_000, perfectStrategy, greedyStrategy)       \n",
    "\n",
    "print(\"In questa simulazione, il giocatore che effettua la prima mossa utilizza la Perfect Strategy.\")\n",
    "print(f\"La Perfect Strategy vince: {wins1} volte\")\n",
    "print(f\"La Greedy Strategy vince: {wins2} volte\")\n",
    "print(f\"Pareggi: {draws} volte\")\n",
    "\n",
    "if wins1 > wins2:\n",
    "    print(f\"\\nLa strategia che risulta vincente è la: Perfect Strategy\")\n",
    "elif wins2 > wins1:\n",
    "    print(f\"\\nLa strategia che risulta vincente è la: Greedy Strategy\")\n",
    "else:\n",
    "    print(\"Le due strategie risultano in parità\")"
   ]
  },
  {
   "cell_type": "code",
   "execution_count": 16,
   "id": "8cc947fb-cb4b-4ae4-813a-ffe402e92e23",
   "metadata": {},
   "outputs": [
    {
     "name": "stdout",
     "output_type": "stream",
     "text": [
      "In questa simulazione, il giocatore che effettua la prima mossa utilizza la Greedy Strategy.\n",
      "La Perfect Strategy vince: 9220 volte\n",
      "La Greedy Strategy vince: 0 volte\n",
      "Pareggi: 780 volte\n",
      "\n",
      "La strategia che risulta vincente è la: Perfect Strategy\n"
     ]
    }
   ],
   "source": [
    "wins1, wins2, draws = simulateTris(10_000, greedyStrategy, perfectStrategy)       \n",
    "\n",
    "print(\"In questa simulazione, il giocatore che effettua la prima mossa utilizza la Greedy Strategy.\")\n",
    "print(f\"La Perfect Strategy vince: {wins2} volte\")\n",
    "print(f\"La Greedy Strategy vince: {wins1} volte\")\n",
    "print(f\"Pareggi: {draws} volte\")\n",
    "\n",
    "if wins1 > wins2:\n",
    "    print(f\"\\nLa strategia che risulta vincente è la: Greedy Strategy\")\n",
    "elif wins2 > wins1:\n",
    "    print(f\"\\nLa strategia che risulta vincente è la: Perfect Strategy\")\n",
    "else:\n",
    "    print(\"Le due strategie risultano in parità\")"
   ]
  },
  {
   "cell_type": "markdown",
   "id": "ed8c26c4-81b5-4f8a-bcfe-218769266a46",
   "metadata": {},
   "source": [
    "#### Funzione `centerCornerEdgeStrategy` ####\n",
    "\n",
    "Questa funzione implementa una delle strategie più conosciute e più semplici da imparare. La strategia segue un ordine di priorità nelle mosse, cercando prima di vincere e poi selezionando una mossa in posizioni strategiche se non esiste una mossa vincente immediata.\n",
    "\n",
    "#### Implementazione ####\n",
    "\n",
    "1. **Vincita immediata**:\n",
    "   - verifica se il giocatore ha una mossa che porta a una vincita immediata chiamando la funzione *win_pos()*;\n",
    "   - se esiste, eseguo la mossa.\n",
    "2. **Posizioni strategiche**:\n",
    "   - la strategia preferisce le seguenti posizioni in ordine di priorità:\n",
    "        - Centro: `(1, 1)`\n",
    "        - Angoli: `(0, 0)`, `(0, 2)`, `(2, 0)`, `(2, 2)`\n",
    "        - Bordi: `(0, 1)`, `(1, 0)`, `(1, 2)`, `(2, 1)`\n",
    "3. **Selezione delle posizioni strategiche vuote**:\n",
    "   - identifico tutte le posizioni strategiche che sono vuote utilizzando una maschera *empty_pos*.\n",
    "4. **Esecuzione della mossa**:\n",
    "   - se esiste almeno una posizione valida tra le posizioni strategiche, seleziono la prima posizione disponibile e aggiorno la griglia con la mossa del giocatore con la funzione *setOnGrid()*.\n",
    "\n",
    "In ogni caso, la funzione restituisce la griglia aggiornata dopo che è stata effettuata una mossa."
   ]
  },
  {
   "cell_type": "code",
   "execution_count": 17,
   "id": "a804893c-e248-4a1c-874a-b94d4c53692a",
   "metadata": {},
   "outputs": [],
   "source": [
    "def centerCornerEdgeStrategy(grid, value):\n",
    "\n",
    "    empty_pos = (grid == EMPTY)\n",
    "    \n",
    "    # Posizioni vincenti della strategia\n",
    "    strategic_pos = np.array([\n",
    "        (1, 1), \n",
    "        (0, 0), (0, 2), (2, 0), (2, 2),  \n",
    "        (0, 1), (1, 0), (1, 2), (2, 1)   \n",
    "    ])\n",
    "\n",
    "    # 1. Verifico la presenza di una vincita immediata ed effettuo la mossa\n",
    "    win_positions = win_pos(grid, value)\n",
    "    if len(win_positions) != 0:\n",
    "        pos = win_positions[np.random.randint(len(win_positions))]\n",
    "        return setOnGrid(grid, pos, value)\n",
    "        \n",
    "    # 2. Seleziono solo le posizioni strategiche che sono vuote\n",
    "    strategic_rows = strategic_pos[:, 0]  # Prima colonna di `strategic_pos` (righe)\n",
    "    strategic_cols = strategic_pos[:, 1]  # Seconda colonna di `strategic_pos` (colonne)\n",
    "\n",
    "    # Uso queste coordinate per estrarre gli indici delle celle vuote\n",
    "    valid_pos = strategic_pos[empty_pos[strategic_rows, strategic_cols]]\n",
    "    \n",
    "    if valid_pos.size > 0:\n",
    "        pos = tuple(valid_pos[0])\n",
    "        return setOnGrid(grid, pos, value)"
   ]
  },
  {
   "cell_type": "markdown",
   "id": "dbe2af0c-3c43-47a9-b5d4-f6ae3a338a63",
   "metadata": {},
   "source": [
    "### Simulazione 4 ###\n",
    "\n",
    "Vengono simulate 10.000 partite tra le strategie **Center Corner Edge Strategy** e **Perfect Strategy**."
   ]
  },
  {
   "cell_type": "code",
   "execution_count": 18,
   "id": "bf6cbe33-7c33-4c4a-993a-b1e600836d44",
   "metadata": {},
   "outputs": [
    {
     "name": "stdout",
     "output_type": "stream",
     "text": [
      "In questa simulazione, il giocatore che effettua la prima mossa utilizza la Perfect Strategy.\n",
      "La Perfect Strategy vince: 10000 volte\n",
      "La Center Corner Edge Strategy vince: 0 volte\n",
      "Pareggi: 0 volte\n",
      "\n",
      "La strategia che risulta vincente è la: Perfect Strategy\n"
     ]
    }
   ],
   "source": [
    "wins1, wins2, draws = simulateTris(10_000, perfectStrategy, centerCornerEdgeStrategy)       \n",
    "\n",
    "print(\"In questa simulazione, il giocatore che effettua la prima mossa utilizza la Perfect Strategy.\")\n",
    "print(f\"La Perfect Strategy vince: {wins1} volte\")\n",
    "print(f\"La Center Corner Edge Strategy vince: {wins2} volte\")\n",
    "print(f\"Pareggi: {draws} volte\")\n",
    "\n",
    "if wins1 > wins2:\n",
    "    print(f\"\\nLa strategia che risulta vincente è la: Perfect Strategy\")\n",
    "elif wins2 > wins1:\n",
    "    print(f\"\\nLa strategia che risulta vincente è la: Center Corner Edge Strategy\")\n",
    "else:\n",
    "    print(\"Le due strategie risultano in parità\")"
   ]
  },
  {
   "cell_type": "code",
   "execution_count": 19,
   "id": "a4cab7fe-6596-45be-a8e3-6e2e8141ad09",
   "metadata": {},
   "outputs": [
    {
     "name": "stdout",
     "output_type": "stream",
     "text": [
      "In questa simulazione, il giocatore che effettua la prima mossa utilizza la Center Corner Edge Strategy.\n",
      "La Perfect Strategy vince: 10000 volte\n",
      "La Center Corner Edge Strategy vince: 0 volte\n",
      "Pareggi: 0 volte\n",
      "\n",
      "La strategia che risulta vincente è la: Perfect Strategy\n"
     ]
    }
   ],
   "source": [
    "wins1, wins2, draws = simulateTris(10_000, centerCornerEdgeStrategy, perfectStrategy)       \n",
    "\n",
    "print(\"In questa simulazione, il giocatore che effettua la prima mossa utilizza la Center Corner Edge Strategy.\")\n",
    "print(f\"La Perfect Strategy vince: {wins2} volte\")\n",
    "print(f\"La Center Corner Edge Strategy vince: {wins1} volte\")\n",
    "print(f\"Pareggi: {draws} volte\")\n",
    "\n",
    "if wins1 > wins2:\n",
    "    print(f\"\\nLa strategia che risulta vincente è la: Center Corner Edge Strategy\")\n",
    "elif wins2 > wins1:\n",
    "    print(f\"\\nLa strategia che risulta vincente è la: Perfect Strategy\")\n",
    "else:\n",
    "    print(\"Le due strategie risultano in parità\")"
   ]
  },
  {
   "cell_type": "markdown",
   "id": "e181976e-726a-4d2c-9874-fc048ac62415",
   "metadata": {},
   "source": [
    "### Simulazione 5 ###\n",
    "\n",
    "Vengono simulate 10.000 partite tra le strategie **Center Corner Edge Strategy** e **Greedy Strategy**."
   ]
  },
  {
   "cell_type": "code",
   "execution_count": 20,
   "id": "ef2a4c62-aecb-47f2-bdac-a0e788e28972",
   "metadata": {},
   "outputs": [
    {
     "name": "stdout",
     "output_type": "stream",
     "text": [
      "In questa simulazione, il giocatore che effettua la prima mossa utilizza la Greedy Strategy.\n",
      "La Greedy Strategy vince: 8112 volte\n",
      "La Center Corner Edge Strategy vince: 1888 volte\n",
      "Pareggi: 0 volte\n",
      "\n",
      "La strategia che risulta vincente è la: Greedy Strategy\n"
     ]
    }
   ],
   "source": [
    "wins1, wins2, draws = simulateTris(10_000, greedyStrategy, centerCornerEdgeStrategy)       \n",
    "\n",
    "print(\"In questa simulazione, il giocatore che effettua la prima mossa utilizza la Greedy Strategy.\")\n",
    "print(f\"La Greedy Strategy vince: {wins1} volte\")\n",
    "print(f\"La Center Corner Edge Strategy vince: {wins2} volte\")\n",
    "print(f\"Pareggi: {draws} volte\")\n",
    "\n",
    "if wins1 > wins2:\n",
    "    print(f\"\\nLa strategia che risulta vincente è la: Greedy Strategy\")\n",
    "elif wins2 > wins1:\n",
    "    print(f\"\\nLa strategia che risulta vincente è la: Center Corner Edge Strategy\")\n",
    "else:\n",
    "    print(\"Le due strategie risultano in parità\")"
   ]
  },
  {
   "cell_type": "code",
   "execution_count": 21,
   "id": "8195951c-9300-4374-b7b4-6547a64d8871",
   "metadata": {},
   "outputs": [
    {
     "name": "stdout",
     "output_type": "stream",
     "text": [
      "In questa simulazione, il giocatore che effettua la prima mossa utilizza la Center Corner Edge Strategy.\n",
      "La Greedy Strategy vince: 1480 volte\n",
      "La Center Corner Edge Strategy vince: 8520 volte\n",
      "Pareggi: 0 volte\n",
      "\n",
      "La strategia che risulta vincente è la: Center Corner Edge Strategy\n"
     ]
    }
   ],
   "source": [
    "wins1, wins2, draws = simulateTris(10_000, centerCornerEdgeStrategy, greedyStrategy)       \n",
    "\n",
    "print(\"In questa simulazione, il giocatore che effettua la prima mossa utilizza la Center Corner Edge Strategy.\")\n",
    "print(f\"La Greedy Strategy vince: {wins2} volte\")\n",
    "print(f\"La Center Corner Edge Strategy vince: {wins1} volte\")\n",
    "print(f\"Pareggi: {draws} volte\")\n",
    "\n",
    "if wins1 > wins2:\n",
    "    print(f\"\\nLa strategia che risulta vincente è la: Center Corner Edge Strategy\")\n",
    "elif wins2 > wins1:\n",
    "    print(f\"\\nLa strategia che risulta vincente è la: Greedy Strategy\")\n",
    "else:\n",
    "    print(\"Le due strategie risultano in parità\")"
   ]
  }
 ],
 "metadata": {
  "kernelspec": {
   "display_name": "Python 3 (ipykernel)",
   "language": "python",
   "name": "python3"
  },
  "language_info": {
   "codemirror_mode": {
    "name": "ipython",
    "version": 3
   },
   "file_extension": ".py",
   "mimetype": "text/x-python",
   "name": "python",
   "nbconvert_exporter": "python",
   "pygments_lexer": "ipython3",
   "version": "3.12.6"
  }
 },
 "nbformat": 4,
 "nbformat_minor": 5
}
